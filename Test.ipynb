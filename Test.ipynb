{
 "cells": [
  {
   "cell_type": "markdown",
   "metadata": {},
   "source": [
    "# AIR QUALITY ANALYSIS - INDIA"
   ]
  },
  {
   "cell_type": "markdown",
   "metadata": {},
   "source": [
    "# Importing Libraries"
   ]
  },
  {
   "cell_type": "code",
   "execution_count": 86,
   "metadata": {},
   "outputs": [],
   "source": [
    "import pandas as pd\r\n",
    "import numpy as np\r\n",
    "import matplotlib as mp\r\n",
    "import matplotlib.pyplot as plt\r\n",
    "import matplotlib.style as style\r\n",
    "import seaborn as sns\r\n",
    "\r\n",
    "%matplotlib inline\r\n"
   ]
  },
  {
   "cell_type": "code",
   "execution_count": 89,
   "metadata": {},
   "outputs": [],
   "source": [
    "mp.rcParams['figure.figsize'] = (20, 10)\r\n",
    "style.use('ggplot')\r\n"
   ]
  },
  {
   "cell_type": "code",
   "execution_count": 2,
   "metadata": {},
   "outputs": [],
   "source": [
    "import warnings;\r\n",
    "warnings.filterwarnings(\"ignore\")\r\n"
   ]
  },
  {
   "cell_type": "markdown",
   "metadata": {},
   "source": [
    "# Data Analysis"
   ]
  },
  {
   "cell_type": "markdown",
   "metadata": {},
   "source": [
    "## Data Exploration"
   ]
  },
  {
   "cell_type": "code",
   "execution_count": 3,
   "metadata": {},
   "outputs": [],
   "source": [
    "air_quality_df = pd.read_csv('./data/data.csv')\r\n"
   ]
  },
  {
   "cell_type": "code",
   "execution_count": 4,
   "metadata": {},
   "outputs": [
    {
     "name": "stdout",
     "output_type": "stream",
     "text": [
      "Number of rows in the DataFrame: 435742\n"
     ]
    }
   ],
   "source": [
    "number_of_rows = len(air_quality_df)\r\n",
    "print('Number of rows in the DataFrame: {}'.format(number_of_rows))\r\n"
   ]
  },
  {
   "cell_type": "code",
   "execution_count": 5,
   "metadata": {},
   "outputs": [
    {
     "data": {
      "text/html": "<div>\n<style scoped>\n    .dataframe tbody tr th:only-of-type {\n        vertical-align: middle;\n    }\n\n    .dataframe tbody tr th {\n        vertical-align: top;\n    }\n\n    .dataframe thead th {\n        text-align: right;\n    }\n</style>\n<table border=\"1\" class=\"dataframe\">\n  <thead>\n    <tr style=\"text-align: right;\">\n      <th></th>\n      <th>stn_code</th>\n      <th>sampling_date</th>\n      <th>state</th>\n      <th>location</th>\n      <th>agency</th>\n      <th>type</th>\n      <th>so2</th>\n      <th>no2</th>\n      <th>rspm</th>\n      <th>spm</th>\n      <th>location_monitoring_station</th>\n      <th>pm2_5</th>\n      <th>date</th>\n    </tr>\n  </thead>\n  <tbody>\n    <tr>\n      <th>0</th>\n      <td>150.0</td>\n      <td>February - M021990</td>\n      <td>Andhra Pradesh</td>\n      <td>Hyderabad</td>\n      <td>NaN</td>\n      <td>Residential, Rural and other Areas</td>\n      <td>4.8</td>\n      <td>17.4</td>\n      <td>NaN</td>\n      <td>NaN</td>\n      <td>NaN</td>\n      <td>NaN</td>\n      <td>1990-02-01</td>\n    </tr>\n    <tr>\n      <th>1</th>\n      <td>151.0</td>\n      <td>February - M021990</td>\n      <td>Andhra Pradesh</td>\n      <td>Hyderabad</td>\n      <td>NaN</td>\n      <td>Industrial Area</td>\n      <td>3.1</td>\n      <td>7.0</td>\n      <td>NaN</td>\n      <td>NaN</td>\n      <td>NaN</td>\n      <td>NaN</td>\n      <td>1990-02-01</td>\n    </tr>\n    <tr>\n      <th>2</th>\n      <td>152.0</td>\n      <td>February - M021990</td>\n      <td>Andhra Pradesh</td>\n      <td>Hyderabad</td>\n      <td>NaN</td>\n      <td>Residential, Rural and other Areas</td>\n      <td>6.2</td>\n      <td>28.5</td>\n      <td>NaN</td>\n      <td>NaN</td>\n      <td>NaN</td>\n      <td>NaN</td>\n      <td>1990-02-01</td>\n    </tr>\n    <tr>\n      <th>3</th>\n      <td>150.0</td>\n      <td>March - M031990</td>\n      <td>Andhra Pradesh</td>\n      <td>Hyderabad</td>\n      <td>NaN</td>\n      <td>Residential, Rural and other Areas</td>\n      <td>6.3</td>\n      <td>14.7</td>\n      <td>NaN</td>\n      <td>NaN</td>\n      <td>NaN</td>\n      <td>NaN</td>\n      <td>1990-03-01</td>\n    </tr>\n    <tr>\n      <th>4</th>\n      <td>151.0</td>\n      <td>March - M031990</td>\n      <td>Andhra Pradesh</td>\n      <td>Hyderabad</td>\n      <td>NaN</td>\n      <td>Industrial Area</td>\n      <td>4.7</td>\n      <td>7.5</td>\n      <td>NaN</td>\n      <td>NaN</td>\n      <td>NaN</td>\n      <td>NaN</td>\n      <td>1990-03-01</td>\n    </tr>\n  </tbody>\n</table>\n</div>",
      "text/plain": "  stn_code       sampling_date           state   location agency  \\\n0    150.0  February - M021990  Andhra Pradesh  Hyderabad    NaN   \n1    151.0  February - M021990  Andhra Pradesh  Hyderabad    NaN   \n2    152.0  February - M021990  Andhra Pradesh  Hyderabad    NaN   \n3    150.0     March - M031990  Andhra Pradesh  Hyderabad    NaN   \n4    151.0     March - M031990  Andhra Pradesh  Hyderabad    NaN   \n\n                                 type  so2   no2  rspm  spm  \\\n0  Residential, Rural and other Areas  4.8  17.4   NaN  NaN   \n1                     Industrial Area  3.1   7.0   NaN  NaN   \n2  Residential, Rural and other Areas  6.2  28.5   NaN  NaN   \n3  Residential, Rural and other Areas  6.3  14.7   NaN  NaN   \n4                     Industrial Area  4.7   7.5   NaN  NaN   \n\n  location_monitoring_station  pm2_5        date  \n0                         NaN    NaN  1990-02-01  \n1                         NaN    NaN  1990-02-01  \n2                         NaN    NaN  1990-02-01  \n3                         NaN    NaN  1990-03-01  \n4                         NaN    NaN  1990-03-01  "
     },
     "execution_count": 5,
     "metadata": {},
     "output_type": "execute_result"
    }
   ],
   "source": [
    "air_quality_df.head()"
   ]
  },
  {
   "cell_type": "code",
   "execution_count": 6,
   "metadata": {},
   "outputs": [
    {
     "name": "stdout",
     "output_type": "stream",
     "text": [
      "<class 'pandas.core.frame.DataFrame'>\n",
      "RangeIndex: 435742 entries, 0 to 435741\n",
      "Data columns (total 13 columns):\n",
      " #   Column                       Non-Null Count   Dtype  \n",
      "---  ------                       --------------   -----  \n",
      " 0   stn_code                     291665 non-null  object \n",
      " 1   sampling_date                435739 non-null  object \n",
      " 2   state                        435742 non-null  object \n",
      " 3   location                     435739 non-null  object \n",
      " 4   agency                       286261 non-null  object \n",
      " 5   type                         430349 non-null  object \n",
      " 6   so2                          401096 non-null  float64\n",
      " 7   no2                          419509 non-null  float64\n",
      " 8   rspm                         395520 non-null  float64\n",
      " 9   spm                          198355 non-null  float64\n",
      " 10  location_monitoring_station  408251 non-null  object \n",
      " 11  pm2_5                        9314 non-null    float64\n",
      " 12  date                         435735 non-null  object \n",
      "dtypes: float64(5), object(8)\n",
      "memory usage: 43.2+ MB\n"
     ]
    }
   ],
   "source": [
    "air_quality_df.info()"
   ]
  },
  {
   "cell_type": "code",
   "execution_count": 7,
   "metadata": {},
   "outputs": [
    {
     "data": {
      "text/html": "<div>\n<style scoped>\n    .dataframe tbody tr th:only-of-type {\n        vertical-align: middle;\n    }\n\n    .dataframe tbody tr th {\n        vertical-align: top;\n    }\n\n    .dataframe thead th {\n        text-align: right;\n    }\n</style>\n<table border=\"1\" class=\"dataframe\">\n  <thead>\n    <tr style=\"text-align: right;\">\n      <th></th>\n      <th>so2</th>\n      <th>no2</th>\n      <th>rspm</th>\n      <th>spm</th>\n      <th>pm2_5</th>\n    </tr>\n  </thead>\n  <tbody>\n    <tr>\n      <th>count</th>\n      <td>401096.000000</td>\n      <td>419509.000000</td>\n      <td>395520.000000</td>\n      <td>198355.000000</td>\n      <td>9314.000000</td>\n    </tr>\n    <tr>\n      <th>mean</th>\n      <td>10.829414</td>\n      <td>25.809623</td>\n      <td>108.832784</td>\n      <td>220.783480</td>\n      <td>40.791467</td>\n    </tr>\n    <tr>\n      <th>std</th>\n      <td>11.177187</td>\n      <td>18.503086</td>\n      <td>74.872430</td>\n      <td>151.395457</td>\n      <td>30.832525</td>\n    </tr>\n    <tr>\n      <th>min</th>\n      <td>0.000000</td>\n      <td>0.000000</td>\n      <td>0.000000</td>\n      <td>0.000000</td>\n      <td>3.000000</td>\n    </tr>\n    <tr>\n      <th>25%</th>\n      <td>5.000000</td>\n      <td>14.000000</td>\n      <td>56.000000</td>\n      <td>111.000000</td>\n      <td>24.000000</td>\n    </tr>\n    <tr>\n      <th>50%</th>\n      <td>8.000000</td>\n      <td>22.000000</td>\n      <td>90.000000</td>\n      <td>187.000000</td>\n      <td>32.000000</td>\n    </tr>\n    <tr>\n      <th>75%</th>\n      <td>13.700000</td>\n      <td>32.200000</td>\n      <td>142.000000</td>\n      <td>296.000000</td>\n      <td>46.000000</td>\n    </tr>\n    <tr>\n      <th>max</th>\n      <td>909.000000</td>\n      <td>876.000000</td>\n      <td>6307.033333</td>\n      <td>3380.000000</td>\n      <td>504.000000</td>\n    </tr>\n  </tbody>\n</table>\n</div>",
      "text/plain": "                 so2            no2           rspm            spm        pm2_5\ncount  401096.000000  419509.000000  395520.000000  198355.000000  9314.000000\nmean       10.829414      25.809623     108.832784     220.783480    40.791467\nstd        11.177187      18.503086      74.872430     151.395457    30.832525\nmin         0.000000       0.000000       0.000000       0.000000     3.000000\n25%         5.000000      14.000000      56.000000     111.000000    24.000000\n50%         8.000000      22.000000      90.000000     187.000000    32.000000\n75%        13.700000      32.200000     142.000000     296.000000    46.000000\nmax       909.000000     876.000000    6307.033333    3380.000000   504.000000"
     },
     "execution_count": 7,
     "metadata": {},
     "output_type": "execute_result"
    }
   ],
   "source": [
    "air_quality_df.describe()"
   ]
  },
  {
   "cell_type": "markdown",
   "metadata": {},
   "source": [
    "## Data Cleaning"
   ]
  },
  {
   "cell_type": "markdown",
   "metadata": {},
   "source": [
    "### Missing Values"
   ]
  },
  {
   "cell_type": "markdown",
   "metadata": {},
   "source": [
    "#### Dropping Columns\r\n",
    "1) If the percentage of missing values in a column is more than 50%, that particular column will be dropped \r\n",
    "2) The particular columns will be dropped because they won't add any value to our Air Quality Analysis\r\n",
    "3) Considering the below data, `spm` and `pm2_5` column will be dropped"
   ]
  },
  {
   "cell_type": "code",
   "execution_count": 8,
   "metadata": {},
   "outputs": [],
   "source": [
    "def show_mising_values():\r\n",
    "    print(((air_quality_df.isnull().sum())/(number_of_rows))*100)"
   ]
  },
  {
   "cell_type": "code",
   "execution_count": 9,
   "metadata": {},
   "outputs": [
    {
     "name": "stdout",
     "output_type": "stream",
     "text": [
      "stn_code                       33.064749\n",
      "sampling_date                   0.000688\n",
      "state                           0.000000\n",
      "location                        0.000688\n",
      "agency                         34.304933\n",
      "type                            1.237659\n",
      "so2                             7.951035\n",
      "no2                             3.725370\n",
      "rspm                            9.230692\n",
      "spm                            54.478797\n",
      "location_monitoring_station     6.309009\n",
      "pm2_5                          97.862497\n",
      "date                            0.001606\n",
      "dtype: float64\n"
     ]
    }
   ],
   "source": [
    "show_mising_values()"
   ]
  },
  {
   "cell_type": "code",
   "execution_count": 10,
   "metadata": {},
   "outputs": [],
   "source": [
    "air_quality_df.drop(columns=['spm', 'pm2_5'], inplace=True)"
   ]
  },
  {
   "cell_type": "markdown",
   "metadata": {},
   "source": [
    "* The column `stn_code` also has 33% of its values missing\r\n",
    "* No statistical methods can be used to input the null values with other values\r\n",
    "* It has also got 803 unique values. Hence, it should be removed "
   ]
  },
  {
   "cell_type": "code",
   "execution_count": 11,
   "metadata": {},
   "outputs": [
    {
     "data": {
      "text/plain": "count     291665.0\nunique       803.0\ntop          193.0\nfreq        1428.0\nName: stn_code, dtype: float64"
     },
     "execution_count": 11,
     "metadata": {},
     "output_type": "execute_result"
    }
   ],
   "source": [
    "air_quality_df['stn_code'].describe()\r\n"
   ]
  },
  {
   "cell_type": "markdown",
   "metadata": {},
   "source": [
    "* The column `agency` also has 34% of its values missing\r\n",
    "* No statistical methods can be used to input the null values with other values\r\n",
    "* It has also got 64 unique values. Hence, it should be removed "
   ]
  },
  {
   "cell_type": "code",
   "execution_count": 12,
   "metadata": {},
   "outputs": [
    {
     "data": {
      "text/plain": "count                                        286261\nunique                                           64\ntop       Maharashtra State Pollution Control Board\nfreq                                          27857\nName: agency, dtype: object"
     },
     "execution_count": 12,
     "metadata": {},
     "output_type": "execute_result"
    }
   ],
   "source": [
    "air_quality_df['agency'].describe()"
   ]
  },
  {
   "cell_type": "code",
   "execution_count": 13,
   "metadata": {},
   "outputs": [],
   "source": [
    "air_quality_df.drop(columns=['agency', 'stn_code'], inplace=True)"
   ]
  },
  {
   "cell_type": "markdown",
   "metadata": {},
   "source": [
    "#### Replacing NaN values with statistical values"
   ]
  },
  {
   "cell_type": "code",
   "execution_count": 14,
   "metadata": {},
   "outputs": [],
   "source": [
    "for i in ['so2', 'no2', 'rspm']:\r\n",
    "    air_quality_df[i].fillna((air_quality_df[i].mean()), inplace=True)"
   ]
  },
  {
   "cell_type": "code",
   "execution_count": 15,
   "metadata": {},
   "outputs": [
    {
     "name": "stdout",
     "output_type": "stream",
     "text": [
      "sampling_date                  0.000688\n",
      "state                          0.000000\n",
      "location                       0.000688\n",
      "type                           1.237659\n",
      "so2                            0.000000\n",
      "no2                            0.000000\n",
      "rspm                           0.000000\n",
      "location_monitoring_station    6.309009\n",
      "date                           0.001606\n",
      "dtype: float64\n"
     ]
    }
   ],
   "source": [
    "show_mising_values()"
   ]
  },
  {
   "cell_type": "markdown",
   "metadata": {},
   "source": [
    "#### Removing Rows consisting of string objects"
   ]
  },
  {
   "cell_type": "code",
   "execution_count": 16,
   "metadata": {},
   "outputs": [],
   "source": [
    "air_quality_df.dropna(axis=0, how='any', inplace=True)"
   ]
  },
  {
   "cell_type": "code",
   "execution_count": 17,
   "metadata": {},
   "outputs": [
    {
     "name": "stdout",
     "output_type": "stream",
     "text": [
      "sampling_date                  0.0\n",
      "state                          0.0\n",
      "location                       0.0\n",
      "type                           0.0\n",
      "so2                            0.0\n",
      "no2                            0.0\n",
      "rspm                           0.0\n",
      "location_monitoring_station    0.0\n",
      "date                           0.0\n",
      "dtype: float64\n"
     ]
    }
   ],
   "source": [
    "show_mising_values()"
   ]
  },
  {
   "cell_type": "markdown",
   "metadata": {},
   "source": [
    "## Data Visualization"
   ]
  },
  {
   "cell_type": "code",
   "execution_count": 26,
   "metadata": {},
   "outputs": [
    {
     "data": {
      "text/plain": "array(['Andhra Pradesh', 'Arunachal Pradesh', 'Assam', 'Bihar',\n       'Chandigarh', 'Chhattisgarh', 'Dadra & Nagar Haveli',\n       'Daman & Diu', 'Delhi', 'Goa', 'Gujarat', 'Haryana',\n       'Himachal Pradesh', 'Jammu & Kashmir', 'Jharkhand', 'Karnataka',\n       'Kerala', 'Madhya Pradesh', 'Maharashtra', 'Manipur', 'Meghalaya',\n       'Mizoram', 'Nagaland', 'Odisha', 'Puducherry', 'Punjab',\n       'Rajasthan', 'Sikkim', 'Tamil Nadu', 'Telangana', 'Uttar Pradesh',\n       'Uttarakhand', 'Uttaranchal', 'West Bengal'], dtype=object)"
     },
     "execution_count": 26,
     "metadata": {},
     "output_type": "execute_result"
    }
   ],
   "source": [
    "air_quality_df.state.unique()"
   ]
  },
  {
   "cell_type": "code",
   "execution_count": 90,
   "metadata": {},
   "outputs": [
    {
     "data": {
      "image/png": "[encoded data removed]",
      "text/plain": "<Figure size 1440x720 with 1 Axes>"
     },
     "metadata": {},
     "output_type": "display_data"
    }
   ],
   "source": [
    "state = 'Rajasthan'\r\n",
    "xticks_attributes = ['so2', 'no2', 'rspm']\r\n",
    "bar_plot_pivot = air_quality_df.loc[(air_quality_df['state'] == state), ['state', 'so2', 'no2', 'rspm']].groupby(by='state').mean()\r\n",
    "pollutants_numbers = bar_plot_pivot.loc[state].tolist()\r\n",
    "sns.barplot(x=xticks_attributes, y=pollutants_numbers, palette=\"Blues_d\")\r\n",
    "plt.xlabel(state)\r\n",
    "plt.ylabel('Average Pollutants Numbers')\r\n",
    "plt.show();\r\n",
    "\r\n"
   ]
  },
  {
   "cell_type": "code",
   "execution_count": 54,
   "metadata": {},
   "outputs": [
    {
     "data": {
      "text/plain": "pandas.core.frame.DataFrame"
     },
     "execution_count": 54,
     "metadata": {},
     "output_type": "execute_result"
    }
   ],
   "source": []
  }
 ],
 "metadata": {
  "kernelspec": {
   "display_name": "Python 3.9.1 64-bit",
   "name": "python391jvsc74a57bd0756289a60cd265983301e67fcfb37f7d029e70770fd3e456e596fd51d1694dbb"
  },
  "language_info": {
   "codemirror_mode": {
    "name": "ipython",
    "version": 3
   },
   "file_extension": ".py",
   "mimetype": "text/x-python",
   "name": "python",
   "nbconvert_exporter": "python",
   "pygments_lexer": "ipython3",
   "version": "3.9.1"
  }
 },
 "nbformat": 4,
 "nbformat_minor": 5
}